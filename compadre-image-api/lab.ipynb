{
 "cells": [
  {
   "cell_type": "code",
   "execution_count": 1,
   "metadata": {},
   "outputs": [
    {
     "name": "stderr",
     "output_type": "stream",
     "text": [
      "/opt/homebrew/Caskroom/miniconda/base/envs/data_quality/lib/python3.11/site-packages/phasepack/tools.py:11: UserWarning: \n",
      "Module 'pyfftw' (FFTW Python bindings) could not be imported. To install it, try\n",
      "running 'pip install pyfftw' from the terminal. Falling back on the slower\n",
      "'fftpack' module for 2D Fourier transforms.\n",
      "  warnings.warn(\"\"\"\n"
     ]
    }
   ],
   "source": [
    "from model.image_recognition import ImageDescriptor"
   ]
  },
  {
   "cell_type": "code",
   "execution_count": 2,
   "metadata": {},
   "outputs": [],
   "source": [
    "agent = ImageDescriptor()"
   ]
  },
  {
   "cell_type": "code",
   "execution_count": 3,
   "metadata": {},
   "outputs": [],
   "source": [
    "image_list = [\n",
    "    \"tmp/toyota.jpg\",\n",
    "    \"tmp/lebron-james.jpg\",\n",
    "    \"tmp/ds.webp\",\n",
    "    \"tmp/WK_Seito_0017_tif_584372fb43.jpg\"\n",
    "]"
   ]
  },
  {
   "cell_type": "code",
   "execution_count": 4,
   "metadata": {},
   "outputs": [],
   "source": [
    "# for elem in image_list:\n",
    "#     res = agent.describe(elem)\n",
    "#     print(res)"
   ]
  },
  {
   "cell_type": "code",
   "execution_count": 5,
   "metadata": {},
   "outputs": [],
   "source": [
    "test_path_list = [\n",
    "    {\n",
    "        \"description\": \"Red Toyota hatchback car\",\n",
    "        \"path\" : \"tmp/toyota.jpg\"\n",
    "    }\n",
    "]\n",
    "\n",
    "test_base_img_path = \"tmp/lebron-james.jpg\""
   ]
  },
  {
   "cell_type": "code",
   "execution_count": 6,
   "metadata": {},
   "outputs": [],
   "source": [
    "# agent._hash_difference(test_base_img_path,test_path_list[0][\"path\"])"
   ]
  },
  {
   "cell_type": "code",
   "execution_count": 7,
   "metadata": {},
   "outputs": [],
   "source": [
    "from PIL import Image\n",
    "img = Image.open(\"tmp/lebron-james.jpg\")\n",
    "new_img = img.resize((1000, 1000))\n",
    "new_img.save(\"lebron.jpg\")"
   ]
  },
  {
   "cell_type": "code",
   "execution_count": 8,
   "metadata": {},
   "outputs": [],
   "source": [
    "from PIL import Image\n",
    "img = Image.open(\"tmp/toyota.jpg\")\n",
    "new_img = img.resize((1000, 1000))\n",
    "new_img.save(\"red-toyota.jpg\")"
   ]
  },
  {
   "cell_type": "code",
   "execution_count": null,
   "metadata": {},
   "outputs": [],
   "source": [
    "from PIL import Image\n",
    "img = Image.open(\"tmp/toyota.jpg\")\n",
    "new_img = img.resize((1000, 1000))\n",
    "new_img.save(\"other-red-toyota.jpg\")"
   ]
  },
  {
   "cell_type": "code",
   "execution_count": null,
   "metadata": {},
   "outputs": [],
   "source": [
    "from PIL import Image\n",
    "img = Image.open(\"black-toyota.jpg\")\n",
    "new_img = img.resize((1000, 1000))\n",
    "new_img.save(\"black-toyota.jpg\")"
   ]
  },
  {
   "cell_type": "code",
   "execution_count": 9,
   "metadata": {},
   "outputs": [
    {
     "data": {
      "text/plain": [
       "{'rmse': 0.026428863406181335, 'psnr': 31.5541995712462}"
      ]
     },
     "execution_count": 9,
     "metadata": {},
     "output_type": "execute_result"
    }
   ],
   "source": [
    "from image_similarity_measures.evaluate import evaluation\n",
    "\n",
    "evaluation(org_img_path=\"test.jpg\", \n",
    "           pred_img_path=\"test2.jpg\",\n",
    "           metrics=[\"rmse\",\"psnr\"])"
   ]
  },
  {
   "cell_type": "code",
   "execution_count": 11,
   "metadata": {},
   "outputs": [
    {
     "data": {
      "text/plain": [
       "[{'description': 'Red Toyota hatchback car',\n",
       "  'path': 'tmp/toyota.jpg',\n",
       "  'hashDiff': {'rmse': 0.026428863406181335, 'psnr': 31.5541995712462}}]"
      ]
     },
     "execution_count": 11,
     "metadata": {},
     "output_type": "execute_result"
    }
   ],
   "source": [
    "agent.compare(test_base_img_path,test_path_list)"
   ]
  }
 ],
 "metadata": {
  "kernelspec": {
   "display_name": ".venv",
   "language": "python",
   "name": "python3"
  },
  "language_info": {
   "codemirror_mode": {
    "name": "ipython",
    "version": 3
   },
   "file_extension": ".py",
   "mimetype": "text/x-python",
   "name": "python",
   "nbconvert_exporter": "python",
   "pygments_lexer": "ipython3",
   "version": "3.11.7"
  }
 },
 "nbformat": 4,
 "nbformat_minor": 2
}
