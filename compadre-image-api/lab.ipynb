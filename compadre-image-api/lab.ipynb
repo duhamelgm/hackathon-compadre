{
 "cells": [
  {
   "cell_type": "code",
   "execution_count": 36,
   "metadata": {},
   "outputs": [],
   "source": [
    "# from model.image_recognition import ImageDescriptor"
   ]
  },
  {
   "cell_type": "code",
   "execution_count": 37,
   "metadata": {},
   "outputs": [],
   "source": [
    "# agent = ImageDescriptor()"
   ]
  },
  {
   "cell_type": "code",
   "execution_count": null,
   "metadata": {},
   "outputs": [],
   "source": []
  },
  {
   "cell_type": "code",
   "execution_count": 38,
   "metadata": {},
   "outputs": [],
   "source": [
    "import requests\n",
    "\n",
    "url = \"http://127.0.0.1:8000/compadre-image-recognition/generate\"\n",
    "file_path = \"./tmp/reshape/lebron.jpg\"\n",
    "\n",
    "with open(file_path, \"rb\") as image_file:\n",
    "    files = {\"file\": image_file}\n",
    "    response = requests.post(url, files=files)\n",
    "\n",
    "print(response.json())"
   ]
  },
  {
   "cell_type": "code",
   "execution_count": 39,
   "metadata": {},
   "outputs": [],
   "source": [
    "# Loading Libraries\n",
    "from skimage.metrics import structural_similarity as ssim \n",
    "import numpy as np\n",
    "# import matplotlib.pyplot as plt\n",
    "import cv2         # For Image Processing\n",
    "\n",
    "import warnings\n",
    "warnings.filterwarnings(\"ignore\")"
   ]
  },
  {
   "cell_type": "code",
   "execution_count": 40,
   "metadata": {},
   "outputs": [],
   "source": [
    "# Function for MSE\n",
    "def mean_squared_error(image1, image2):\n",
    "    error = np.sum((image1.astype('float') - image2.astype('float'))**2)\n",
    "    error = error/float(image1.shape[0] * image2.shape[1])\n",
    "    return error\n"
   ]
  },
  {
   "cell_type": "code",
   "execution_count": 41,
   "metadata": {},
   "outputs": [],
   "source": [
    "# Function for image compare\n",
    "def image_comparison(image1, image2):\n",
    "    # input image must have the same dimension for comparison\n",
    "    image2 = cv2.resize(image2,(image1.shape[1::-1]),interpolation=cv2.INTER_AREA)\n",
    "    m = mean_squared_error(image1, image2)\n",
    "    s = ssim(image1, image2, multichannel=True)\n",
    "    print(\"Mean Squared Error is {}\\nStructural Similarity Measure index is: {}\".format(m,s))"
   ]
  },
  {
   "cell_type": "code",
   "execution_count": 42,
   "metadata": {},
   "outputs": [],
   "source": [
    "# load images\n",
    "image1 = cv2.imread(\"./tmp/reshape/black-toyota.jpg\") \n",
    "image2 = cv2.imread(\"./tmp/reshape/red-toyota.jpg\")\n",
    "image3 = cv2.imread(\"./tmp/reshape/lebron.jpg\")"
   ]
  },
  {
   "cell_type": "code",
   "execution_count": 43,
   "metadata": {},
   "outputs": [],
   "source": [
    "image1_gray = cv2.cvtColor(image1, cv2.COLOR_BGR2GRAY)\n",
    "image2_gray = cv2.cvtColor(image2, cv2.COLOR_BGR2GRAY)\n",
    "image3_gray = cv2.cvtColor(image3, cv2.COLOR_BGR2GRAY)"
   ]
  },
  {
   "cell_type": "code",
   "execution_count": 44,
   "metadata": {},
   "outputs": [
    {
     "ename": "ValueError",
     "evalue": "win_size exceeds image extent. Either ensure that your images are at least 7x7; or pass win_size explicitly in the function call, with an odd value less than or equal to the smaller side of your images. If your images are multichannel (with color channels), set channel_axis to the axis number corresponding to the channels.",
     "output_type": "error",
     "traceback": [
      "\u001b[0;31m---------------------------------------------------------------------------\u001b[0m",
      "\u001b[0;31mValueError\u001b[0m                                Traceback (most recent call last)",
      "Cell \u001b[0;32mIn[44], line 2\u001b[0m\n\u001b[1;32m      1\u001b[0m \u001b[38;5;66;03m# compare original RGB image similarity\u001b[39;00m\n\u001b[0;32m----> 2\u001b[0m \u001b[38;5;28mprint\u001b[39m(\u001b[43mimage_comparison\u001b[49m\u001b[43m(\u001b[49m\u001b[43mimage1\u001b[49m\u001b[43m,\u001b[49m\u001b[43mimage2\u001b[49m\u001b[43m)\u001b[49m)\n\u001b[1;32m      3\u001b[0m \u001b[38;5;66;03m# compare original RGB image similarity\u001b[39;00m\n\u001b[1;32m      4\u001b[0m \u001b[38;5;28mprint\u001b[39m(image_comparison(image1,image3))\n",
      "Cell \u001b[0;32mIn[41], line 6\u001b[0m, in \u001b[0;36mimage_comparison\u001b[0;34m(image1, image2)\u001b[0m\n\u001b[1;32m      4\u001b[0m image2 \u001b[38;5;241m=\u001b[39m cv2\u001b[38;5;241m.\u001b[39mresize(image2,(image1\u001b[38;5;241m.\u001b[39mshape[\u001b[38;5;241m1\u001b[39m::\u001b[38;5;241m-\u001b[39m\u001b[38;5;241m1\u001b[39m]),interpolation\u001b[38;5;241m=\u001b[39mcv2\u001b[38;5;241m.\u001b[39mINTER_AREA)\n\u001b[1;32m      5\u001b[0m m \u001b[38;5;241m=\u001b[39m mean_squared_error(image1, image2)\n\u001b[0;32m----> 6\u001b[0m s \u001b[38;5;241m=\u001b[39m \u001b[43mssim\u001b[49m\u001b[43m(\u001b[49m\u001b[43mimage1\u001b[49m\u001b[43m,\u001b[49m\u001b[43m \u001b[49m\u001b[43mimage2\u001b[49m\u001b[43m,\u001b[49m\u001b[43m \u001b[49m\u001b[43mmultichannel\u001b[49m\u001b[38;5;241;43m=\u001b[39;49m\u001b[38;5;28;43;01mTrue\u001b[39;49;00m\u001b[43m)\u001b[49m\n\u001b[1;32m      7\u001b[0m \u001b[38;5;28mprint\u001b[39m(\u001b[38;5;124m\"\u001b[39m\u001b[38;5;124mMean Squared Error is \u001b[39m\u001b[38;5;132;01m{}\u001b[39;00m\u001b[38;5;130;01m\\n\u001b[39;00m\u001b[38;5;124mStructural Similarity Measure index is: \u001b[39m\u001b[38;5;132;01m{}\u001b[39;00m\u001b[38;5;124m\"\u001b[39m\u001b[38;5;241m.\u001b[39mformat(m,s))\n",
      "File \u001b[0;32m/opt/homebrew/Caskroom/miniconda/base/envs/data_quality/lib/python3.11/site-packages/skimage/metrics/_structural_similarity.py:178\u001b[0m, in \u001b[0;36mstructural_similarity\u001b[0;34m(im1, im2, win_size, gradient, data_range, channel_axis, gaussian_weights, full, **kwargs)\u001b[0m\n\u001b[1;32m    175\u001b[0m         win_size \u001b[38;5;241m=\u001b[39m \u001b[38;5;241m7\u001b[39m   \u001b[38;5;66;03m# backwards compatibility\u001b[39;00m\n\u001b[1;32m    177\u001b[0m \u001b[38;5;28;01mif\u001b[39;00m np\u001b[38;5;241m.\u001b[39many((np\u001b[38;5;241m.\u001b[39masarray(im1\u001b[38;5;241m.\u001b[39mshape) \u001b[38;5;241m-\u001b[39m win_size) \u001b[38;5;241m<\u001b[39m \u001b[38;5;241m0\u001b[39m):\n\u001b[0;32m--> 178\u001b[0m     \u001b[38;5;28;01mraise\u001b[39;00m \u001b[38;5;167;01mValueError\u001b[39;00m(\n\u001b[1;32m    179\u001b[0m         \u001b[38;5;124m'\u001b[39m\u001b[38;5;124mwin_size exceeds image extent. \u001b[39m\u001b[38;5;124m'\u001b[39m\n\u001b[1;32m    180\u001b[0m         \u001b[38;5;124m'\u001b[39m\u001b[38;5;124mEither ensure that your images are \u001b[39m\u001b[38;5;124m'\u001b[39m\n\u001b[1;32m    181\u001b[0m         \u001b[38;5;124m'\u001b[39m\u001b[38;5;124mat least 7x7; or pass win_size explicitly \u001b[39m\u001b[38;5;124m'\u001b[39m\n\u001b[1;32m    182\u001b[0m         \u001b[38;5;124m'\u001b[39m\u001b[38;5;124min the function call, with an odd value \u001b[39m\u001b[38;5;124m'\u001b[39m\n\u001b[1;32m    183\u001b[0m         \u001b[38;5;124m'\u001b[39m\u001b[38;5;124mless than or equal to the smaller side of your \u001b[39m\u001b[38;5;124m'\u001b[39m\n\u001b[1;32m    184\u001b[0m         \u001b[38;5;124m'\u001b[39m\u001b[38;5;124mimages. If your images are multichannel \u001b[39m\u001b[38;5;124m'\u001b[39m\n\u001b[1;32m    185\u001b[0m         \u001b[38;5;124m'\u001b[39m\u001b[38;5;124m(with color channels), set channel_axis to \u001b[39m\u001b[38;5;124m'\u001b[39m\n\u001b[1;32m    186\u001b[0m         \u001b[38;5;124m'\u001b[39m\u001b[38;5;124mthe axis number corresponding to the channels.\u001b[39m\u001b[38;5;124m'\u001b[39m)\n\u001b[1;32m    188\u001b[0m \u001b[38;5;28;01mif\u001b[39;00m \u001b[38;5;129;01mnot\u001b[39;00m (win_size \u001b[38;5;241m%\u001b[39m \u001b[38;5;241m2\u001b[39m \u001b[38;5;241m==\u001b[39m \u001b[38;5;241m1\u001b[39m):\n\u001b[1;32m    189\u001b[0m     \u001b[38;5;28;01mraise\u001b[39;00m \u001b[38;5;167;01mValueError\u001b[39;00m(\u001b[38;5;124m'\u001b[39m\u001b[38;5;124mWindow size must be odd.\u001b[39m\u001b[38;5;124m'\u001b[39m)\n",
      "\u001b[0;31mValueError\u001b[0m: win_size exceeds image extent. Either ensure that your images are at least 7x7; or pass win_size explicitly in the function call, with an odd value less than or equal to the smaller side of your images. If your images are multichannel (with color channels), set channel_axis to the axis number corresponding to the channels."
     ]
    }
   ],
   "source": [
    "# compare original RGB image similarity\n",
    "print(image_comparison(image1,image2))\n",
    "# compare original RGB image similarity\n",
    "print(image_comparison(image1,image3))"
   ]
  },
  {
   "cell_type": "code",
   "execution_count": null,
   "metadata": {},
   "outputs": [],
   "source": [
    "# compare original RGB image similarity\n",
    "print(image_comparison(image1_gray,image2_gray))\n",
    "# compare original RGB image similarity\n",
    "print(image_comparison(image1_gray,image3_gray))"
   ]
  },
  {
   "cell_type": "code",
   "execution_count": 47,
   "metadata": {},
   "outputs": [
    {
     "name": "stdout",
     "output_type": "stream",
     "text": [
      "Similarity for table 3\n",
      "Normal:\n",
      "Mean Squared Error is 8181.935873015873\n",
      "Structural Similarity Measure index is: 0.6858081542116666\n",
      "(8181.935873015873, 0.6858081542116666)\n",
      "Gray scale:\n",
      "Mean Squared Error is 2147.664880952381\n",
      "Structural Similarity Measure index is: 0.8138225450711063\n",
      "(2147.664880952381, 0.8138225450711063)\n",
      "\n",
      "\n",
      "Similarity for table 1\n",
      "Normal:\n",
      "Mean Squared Error is 8809.93126984127\n",
      "Structural Similarity Measure index is: 0.6288959566568402\n",
      "(8809.93126984127, 0.6288959566568402)\n",
      "Gray scale:\n",
      "Mean Squared Error is 2267.418452380952\n",
      "Structural Similarity Measure index is: 0.7289150741494952\n",
      "(2267.418452380952, 0.7289150741494952)\n",
      "\n",
      "\n",
      "Similarity for black toyota\n",
      "Normal:\n",
      "Mean Squared Error is 51082.9416468254\n",
      "Structural Similarity Measure index is: 0.36385103463918567\n",
      "(51082.9416468254, 0.36385103463918567)\n",
      "Gray scale:\n",
      "Mean Squared Error is 16780.368313492065\n",
      "Structural Similarity Measure index is: 0.4125020637981738\n",
      "(16780.368313492065, 0.4125020637981738)\n",
      "\n",
      "\n",
      "Similarity for red-toyota\n",
      "Normal:\n",
      "Mean Squared Error is 61783.174464285716\n",
      "Structural Similarity Measure index is: 0.1498245726954899\n",
      "(61783.174464285716, 0.1498245726954899)\n",
      "Gray scale:\n",
      "Mean Squared Error is 20108.786190476192\n",
      "Structural Similarity Measure index is: 0.20962573656550382\n",
      "(20108.786190476192, 0.20962573656550382)\n",
      "\n",
      "\n",
      "Similarity for lebron\n",
      "Normal:\n",
      "Mean Squared Error is 88878.1967063492\n",
      "Structural Similarity Measure index is: 0.09596016282986168\n",
      "(88878.1967063492, 0.09596016282986168)\n",
      "Gray scale:\n",
      "Mean Squared Error is 28050.69501984127\n",
      "Structural Similarity Measure index is: 0.18704326853226344\n",
      "(28050.69501984127, 0.18704326853226344)\n",
      "\n",
      "\n"
     ]
    }
   ],
   "source": [
    "# Loading Libraries\n",
    "from skimage.metrics import structural_similarity as ssim \n",
    "import numpy as np\n",
    "import cv2         # For Image Processing\n",
    "\n",
    "import warnings\n",
    "warnings.filterwarnings(\"ignore\")\n",
    "\n",
    "# Function for MSE\n",
    "def mean_squared_error(image1, image2):\n",
    "    error = np.sum((image1.astype('float') - image2.astype('float'))**2)\n",
    "    error = error / float(image1.shape[0] * image2.shape[1])\n",
    "    return error\n",
    "\n",
    "# Function for image compare\n",
    "def image_comparison(image1, image2):\n",
    "    # input images must have the same dimension for comparison\n",
    "    image2 = cv2.resize(image2, (image1.shape[1], image1.shape[0]), interpolation=cv2.INTER_AREA)\n",
    "    m = mean_squared_error(image1, image2)\n",
    "    s = ssim(image1, image2, multichannel=True, win_size=7, channel_axis=-1) # Explicitly setting win_size and channel_axis\n",
    "    print(f\"Mean Squared Error is {m}\\nStructural Similarity Measure index is: {s}\")\n",
    "    return m, s\n",
    "\n",
    "# Load images\n",
    "\n",
    "image1 = cv2.imread(\"./tmp/input/table2.jpeg\") \n",
    "image2 = cv2.imread(\"./tmp/input/table3.webp\")\n",
    "image3 = cv2.imread(\"./tmp/input/table1.jpg\")\n",
    "image4 = cv2.imread(\"./tmp/reshape/black-toyota.jpg\") \n",
    "image5 = cv2.imread(\"./tmp/reshape/red-toyota.jpg\")\n",
    "image6 = cv2.imread(\"./tmp/reshape/lebron.jpg\")\n",
    "\n",
    "image_dict ={\n",
    "    \"table 3\": image2,\n",
    "    \"table 1\": image3,\n",
    "    \"black toyota\": image4,\n",
    "    \"red-toyota\": image5,\n",
    "    \"lebron\":image6\n",
    "}\n",
    "\n",
    "for elem in image_dict:\n",
    "    print(f\"Similarity for {elem}\")\n",
    "    print(\"Normal:\")\n",
    "    print(image_comparison(image1,image_dict[elem]))\n",
    "    print(\"Gray scale:\")\n",
    "    print(image_comparison(cv2.cvtColor(image1, cv2.COLOR_BGR2GRAY),cv2.cvtColor(image_dict[elem], cv2.COLOR_BGR2GRAY)))\n",
    "    print()\n",
    "    print()"
   ]
  },
  {
   "cell_type": "code",
   "execution_count": null,
   "metadata": {},
   "outputs": [],
   "source": [
    "import httpx\n",
    "import json\n",
    "# Define the JSON payload\n",
    "payload = {\n",
    "    \"image_list\": [\n",
    "        {\n",
    "            \"name\": \"Vintage 1970's Mcm Sofa & Arm Chair Set\",\n",
    "            \"price\": 1800,\n",
    "            \"currency\": \"$CAD\",\n",
    "            \"imageUrl\": \"https://scontent-yyz1-1.xx.fbcdn.net/v/t45.5328-4/460165527_1662875777619694_7989799908793989774_n.jpg?stp=c0.65.261.261a_dst-jpg_p261x260&_nc_cat=105&ccb=1-7&_nc_sid=247b10&_nc_ohc=esZ1OjmdC14Q7kNvgFe1NZo&_nc_ht=scontent-yyz1-1.xx&_nc_gid=AfTPHT-dl7B9bSMa8nIy3SO&oh=00_AYBfZCKGYqBJhKtCdQ5hHevxusP10msO1AIWWgKxEksjqA&oe=66FCD322\",\n",
    "            \"url\": \"facebook.com/marketplace/item/1214364682935618/?ref=search&referral_code=null&referral_story_type=post&__tn__=!%3AD\",\n",
    "            \"source\": \"marketplace\"\n",
    "        },\n",
    "        # Add more items as needed\n",
    "    ]\n",
    "}\n",
    "\n",
    "files = {\n",
    "    'file': ('lebron.jpg', open('tmp/reshape/lebron.jpg', 'rb'), 'image/jpeg'),\n",
    "    'payload': (None, json.dumps(payload), 'application/json')  # Embed the payload as a JSON string\n",
    "}\n",
    "\n",
    "response = httpx.post(\"http://127.0.0.1:8000/compadre-image-recognition/compare\", files=files)\n",
    "\n",
    "print(response.json())\n"
   ]
  }
 ],
 "metadata": {
  "kernelspec": {
   "display_name": ".venv",
   "language": "python",
   "name": "python3"
  },
  "language_info": {
   "codemirror_mode": {
    "name": "ipython",
    "version": 3
   },
   "file_extension": ".py",
   "mimetype": "text/x-python",
   "name": "python",
   "nbconvert_exporter": "python",
   "pygments_lexer": "ipython3",
   "version": "3.11.7"
  }
 },
 "nbformat": 4,
 "nbformat_minor": 2
}
